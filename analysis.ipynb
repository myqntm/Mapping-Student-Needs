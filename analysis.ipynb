{
 "cells": [
  {
   "cell_type": "code",
   "execution_count": 1,
   "metadata": {},
   "outputs": [],
   "source": [
    "import matplotlib.pyplot as plt\n",
    "import pandas as pd"
   ]
  },
  {
   "cell_type": "markdown",
   "metadata": {},
   "source": [
    "## Gather\n",
    "In this step I will read in the raw dataset from the csv file that was downloaded from Data.World."
   ]
  },
  {
   "cell_type": "code",
   "execution_count": 2,
   "metadata": {},
   "outputs": [],
   "source": [
    "df = pd.read_csv('data/raw_data.csv')"
   ]
  },
  {
   "cell_type": "markdown",
   "metadata": {},
   "source": [
    "## Assess"
   ]
  },
  {
   "cell_type": "code",
   "execution_count": 3,
   "metadata": {},
   "outputs": [
    {
     "data": {
      "text/html": [
       "<div>\n",
       "<style scoped>\n",
       "    .dataframe tbody tr th:only-of-type {\n",
       "        vertical-align: middle;\n",
       "    }\n",
       "\n",
       "    .dataframe tbody tr th {\n",
       "        vertical-align: top;\n",
       "    }\n",
       "\n",
       "    .dataframe thead th {\n",
       "        text-align: right;\n",
       "    }\n",
       "</style>\n",
       "<table border=\"1\" class=\"dataframe\">\n",
       "  <thead>\n",
       "    <tr style=\"text-align: right;\">\n",
       "      <th></th>\n",
       "      <th>school_id</th>\n",
       "      <th>state</th>\n",
       "      <th>geographic_school_district</th>\n",
       "      <th>children_5_17_saipe_estimate</th>\n",
       "      <th>poverty_saipe_estimate</th>\n",
       "      <th>single_parent_estimate</th>\n",
       "      <th>single_parent_margin_of_error</th>\n",
       "      <th>hhs_with_vulnerable_job_estimate</th>\n",
       "      <th>vulnerable_job_margin_of_error</th>\n",
       "      <th>crowded_conditions_estimate</th>\n",
       "      <th>hh_with_crowded_conditions_margin_of_error</th>\n",
       "      <th>no_computer_or_internet_estimate</th>\n",
       "      <th>no_computer_or_internet_margin_of_error</th>\n",
       "      <th>children_with_disability</th>\n",
       "      <th>children_with_disability_margin_of_error</th>\n",
       "      <th>linguistically_isolated_children</th>\n",
       "      <th>linguistically_isolated_children_margin_of_error</th>\n",
       "    </tr>\n",
       "  </thead>\n",
       "  <tbody>\n",
       "    <tr>\n",
       "      <th>0</th>\n",
       "      <td>1</td>\n",
       "      <td>Alabama</td>\n",
       "      <td>Fort Rucker School District</td>\n",
       "      <td>985</td>\n",
       "      <td>0.124424</td>\n",
       "      <td>0.048975</td>\n",
       "      <td>0%-10%</td>\n",
       "      <td>0.327559</td>\n",
       "      <td>20%-46%</td>\n",
       "      <td>0.028090</td>\n",
       "      <td>0%-8%</td>\n",
       "      <td>0.020489</td>\n",
       "      <td>0%-5%</td>\n",
       "      <td>0.032487</td>\n",
       "      <td>0%-6%</td>\n",
       "      <td>0.000000</td>\n",
       "      <td>0%-3%</td>\n",
       "    </tr>\n",
       "    <tr>\n",
       "      <th>1</th>\n",
       "      <td>3</td>\n",
       "      <td>Alabama</td>\n",
       "      <td>Maxwell AFB School District</td>\n",
       "      <td>292</td>\n",
       "      <td>0.152263</td>\n",
       "      <td>0.101887</td>\n",
       "      <td>3%-17%</td>\n",
       "      <td>0.306513</td>\n",
       "      <td>4%-57%</td>\n",
       "      <td>0.009967</td>\n",
       "      <td>0%-10%</td>\n",
       "      <td>0.014528</td>\n",
       "      <td>0%-6%</td>\n",
       "      <td>0.054795</td>\n",
       "      <td>2%-9%</td>\n",
       "      <td>0.000000</td>\n",
       "      <td>0%-8%</td>\n",
       "    </tr>\n",
       "    <tr>\n",
       "      <th>2</th>\n",
       "      <td>5</td>\n",
       "      <td>Alabama</td>\n",
       "      <td>Albertville City School District</td>\n",
       "      <td>4591</td>\n",
       "      <td>0.300538</td>\n",
       "      <td>0.352926</td>\n",
       "      <td>26%-44%</td>\n",
       "      <td>0.326535</td>\n",
       "      <td>28%-37%</td>\n",
       "      <td>0.047664</td>\n",
       "      <td>3%-7%</td>\n",
       "      <td>0.221471</td>\n",
       "      <td>13%-32%</td>\n",
       "      <td>0.018079</td>\n",
       "      <td>0%-3%</td>\n",
       "      <td>0.173601</td>\n",
       "      <td>10%-24%</td>\n",
       "    </tr>\n",
       "    <tr>\n",
       "      <th>3</th>\n",
       "      <td>6</td>\n",
       "      <td>Alabama</td>\n",
       "      <td>Marshall County School District</td>\n",
       "      <td>8299</td>\n",
       "      <td>0.266222</td>\n",
       "      <td>0.295197</td>\n",
       "      <td>24%-35%</td>\n",
       "      <td>0.234867</td>\n",
       "      <td>21%-26%</td>\n",
       "      <td>0.026383</td>\n",
       "      <td>2%-3%</td>\n",
       "      <td>0.142486</td>\n",
       "      <td>11%-18%</td>\n",
       "      <td>0.043499</td>\n",
       "      <td>3%-6%</td>\n",
       "      <td>0.038679</td>\n",
       "      <td>1%-7%</td>\n",
       "    </tr>\n",
       "    <tr>\n",
       "      <th>4</th>\n",
       "      <td>7</td>\n",
       "      <td>Alabama</td>\n",
       "      <td>Hoover City School District</td>\n",
       "      <td>15397</td>\n",
       "      <td>0.072596</td>\n",
       "      <td>0.208316</td>\n",
       "      <td>17%-25%</td>\n",
       "      <td>0.292165</td>\n",
       "      <td>27%-31%</td>\n",
       "      <td>0.015485</td>\n",
       "      <td>1%-2%</td>\n",
       "      <td>0.031688</td>\n",
       "      <td>1%-5%</td>\n",
       "      <td>0.038774</td>\n",
       "      <td>2%-5%</td>\n",
       "      <td>0.044164</td>\n",
       "      <td>1%-8%</td>\n",
       "    </tr>\n",
       "  </tbody>\n",
       "</table>\n",
       "</div>"
      ],
      "text/plain": [
       "   school_id    state        geographic_school_district  \\\n",
       "0          1  Alabama       Fort Rucker School District   \n",
       "1          3  Alabama       Maxwell AFB School District   \n",
       "2          5  Alabama  Albertville City School District   \n",
       "3          6  Alabama   Marshall County School District   \n",
       "4          7  Alabama       Hoover City School District   \n",
       "\n",
       "   children_5_17_saipe_estimate  poverty_saipe_estimate  \\\n",
       "0                           985                0.124424   \n",
       "1                           292                0.152263   \n",
       "2                          4591                0.300538   \n",
       "3                          8299                0.266222   \n",
       "4                         15397                0.072596   \n",
       "\n",
       "   single_parent_estimate single_parent_margin_of_error  \\\n",
       "0                0.048975                        0%-10%   \n",
       "1                0.101887                        3%-17%   \n",
       "2                0.352926                       26%-44%   \n",
       "3                0.295197                       24%-35%   \n",
       "4                0.208316                       17%-25%   \n",
       "\n",
       "   hhs_with_vulnerable_job_estimate vulnerable_job_margin_of_error  \\\n",
       "0                          0.327559                        20%-46%   \n",
       "1                          0.306513                         4%-57%   \n",
       "2                          0.326535                        28%-37%   \n",
       "3                          0.234867                        21%-26%   \n",
       "4                          0.292165                        27%-31%   \n",
       "\n",
       "   crowded_conditions_estimate hh_with_crowded_conditions_margin_of_error  \\\n",
       "0                     0.028090                                      0%-8%   \n",
       "1                     0.009967                                     0%-10%   \n",
       "2                     0.047664                                      3%-7%   \n",
       "3                     0.026383                                      2%-3%   \n",
       "4                     0.015485                                      1%-2%   \n",
       "\n",
       "   no_computer_or_internet_estimate no_computer_or_internet_margin_of_error  \\\n",
       "0                          0.020489                                   0%-5%   \n",
       "1                          0.014528                                   0%-6%   \n",
       "2                          0.221471                                 13%-32%   \n",
       "3                          0.142486                                 11%-18%   \n",
       "4                          0.031688                                   1%-5%   \n",
       "\n",
       "   children_with_disability children_with_disability_margin_of_error  \\\n",
       "0                  0.032487                                    0%-6%   \n",
       "1                  0.054795                                    2%-9%   \n",
       "2                  0.018079                                    0%-3%   \n",
       "3                  0.043499                                    3%-6%   \n",
       "4                  0.038774                                    2%-5%   \n",
       "\n",
       "   linguistically_isolated_children  \\\n",
       "0                          0.000000   \n",
       "1                          0.000000   \n",
       "2                          0.173601   \n",
       "3                          0.038679   \n",
       "4                          0.044164   \n",
       "\n",
       "  linguistically_isolated_children_margin_of_error  \n",
       "0                                            0%-3%  \n",
       "1                                            0%-8%  \n",
       "2                                          10%-24%  \n",
       "3                                            1%-7%  \n",
       "4                                            1%-8%  "
      ]
     },
     "execution_count": 3,
     "metadata": {},
     "output_type": "execute_result"
    }
   ],
   "source": [
    "df.head()"
   ]
  },
  {
   "cell_type": "code",
   "execution_count": 19,
   "metadata": {},
   "outputs": [
    {
     "data": {
      "text/plain": [
       "school_id                                             int64\n",
       "state                                                object\n",
       "geographic_school_district                           object\n",
       "children_5_17_saipe_estimate                          int64\n",
       "poverty_saipe_estimate                              float64\n",
       "single_parent_estimate                              float64\n",
       "single_parent_margin_of_error                        object\n",
       "hhs_with_vulnerable_job_estimate                    float64\n",
       "vulnerable_job_margin_of_error                       object\n",
       "crowded_conditions_estimate                         float64\n",
       "hh_with_crowded_conditions_margin_of_error           object\n",
       "no_computer_or_internet_estimate                    float64\n",
       "no_computer_or_internet_margin_of_error              object\n",
       "children_with_disability                            float64\n",
       "children_with_disability_margin_of_error             object\n",
       "linguistically_isolated_children                    float64\n",
       "linguistically_isolated_children_margin_of_error     object\n",
       "dtype: object"
      ]
     },
     "execution_count": 19,
     "metadata": {},
     "output_type": "execute_result"
    }
   ],
   "source": [
    "df.dtypes"
   ]
  },
  {
   "cell_type": "code",
   "execution_count": 20,
   "metadata": {},
   "outputs": [
    {
     "data": {
      "text/html": [
       "<div>\n",
       "<style scoped>\n",
       "    .dataframe tbody tr th:only-of-type {\n",
       "        vertical-align: middle;\n",
       "    }\n",
       "\n",
       "    .dataframe tbody tr th {\n",
       "        vertical-align: top;\n",
       "    }\n",
       "\n",
       "    .dataframe thead th {\n",
       "        text-align: right;\n",
       "    }\n",
       "</style>\n",
       "<table border=\"1\" class=\"dataframe\">\n",
       "  <thead>\n",
       "    <tr style=\"text-align: right;\">\n",
       "      <th></th>\n",
       "      <th>school_id</th>\n",
       "      <th>children_5_17_saipe_estimate</th>\n",
       "      <th>poverty_saipe_estimate</th>\n",
       "      <th>single_parent_estimate</th>\n",
       "      <th>hhs_with_vulnerable_job_estimate</th>\n",
       "      <th>crowded_conditions_estimate</th>\n",
       "      <th>no_computer_or_internet_estimate</th>\n",
       "      <th>children_with_disability</th>\n",
       "      <th>linguistically_isolated_children</th>\n",
       "    </tr>\n",
       "  </thead>\n",
       "  <tbody>\n",
       "    <tr>\n",
       "      <th>count</th>\n",
       "      <td>13314.000000</td>\n",
       "      <td>1.331400e+04</td>\n",
       "      <td>13314.000000</td>\n",
       "      <td>13314.000000</td>\n",
       "      <td>13314.000000</td>\n",
       "      <td>13314.000000</td>\n",
       "      <td>13314.000000</td>\n",
       "      <td>13314.000000</td>\n",
       "      <td>13314.000000</td>\n",
       "    </tr>\n",
       "    <tr>\n",
       "      <th>mean</th>\n",
       "      <td>14203.053402</td>\n",
       "      <td>4.352696e+03</td>\n",
       "      <td>0.161928</td>\n",
       "      <td>0.300393</td>\n",
       "      <td>0.261315</td>\n",
       "      <td>0.025675</td>\n",
       "      <td>0.139781</td>\n",
       "      <td>0.057484</td>\n",
       "      <td>0.021687</td>\n",
       "    </tr>\n",
       "    <tr>\n",
       "      <th>std</th>\n",
       "      <td>15027.794484</td>\n",
       "      <td>1.819214e+04</td>\n",
       "      <td>0.094417</td>\n",
       "      <td>0.145567</td>\n",
       "      <td>0.062967</td>\n",
       "      <td>0.032945</td>\n",
       "      <td>0.118753</td>\n",
       "      <td>0.043084</td>\n",
       "      <td>0.048998</td>\n",
       "    </tr>\n",
       "    <tr>\n",
       "      <th>min</th>\n",
       "      <td>1.000000</td>\n",
       "      <td>0.000000e+00</td>\n",
       "      <td>0.000000</td>\n",
       "      <td>0.000000</td>\n",
       "      <td>0.000000</td>\n",
       "      <td>0.000000</td>\n",
       "      <td>0.000000</td>\n",
       "      <td>0.000000</td>\n",
       "      <td>0.000000</td>\n",
       "    </tr>\n",
       "    <tr>\n",
       "      <th>25%</th>\n",
       "      <td>3934.000000</td>\n",
       "      <td>4.450000e+02</td>\n",
       "      <td>0.091779</td>\n",
       "      <td>0.203241</td>\n",
       "      <td>0.226162</td>\n",
       "      <td>0.008020</td>\n",
       "      <td>0.054255</td>\n",
       "      <td>0.030859</td>\n",
       "      <td>0.000000</td>\n",
       "    </tr>\n",
       "    <tr>\n",
       "      <th>50%</th>\n",
       "      <td>9540.000000</td>\n",
       "      <td>1.263500e+03</td>\n",
       "      <td>0.147465</td>\n",
       "      <td>0.288236</td>\n",
       "      <td>0.261326</td>\n",
       "      <td>0.016885</td>\n",
       "      <td>0.112354</td>\n",
       "      <td>0.050691</td>\n",
       "      <td>0.000000</td>\n",
       "    </tr>\n",
       "    <tr>\n",
       "      <th>75%</th>\n",
       "      <td>20967.500000</td>\n",
       "      <td>3.458500e+03</td>\n",
       "      <td>0.214746</td>\n",
       "      <td>0.381736</td>\n",
       "      <td>0.295547</td>\n",
       "      <td>0.030664</td>\n",
       "      <td>0.191661</td>\n",
       "      <td>0.076047</td>\n",
       "      <td>0.020890</td>\n",
       "    </tr>\n",
       "    <tr>\n",
       "      <th>max</th>\n",
       "      <td>99997.000000</td>\n",
       "      <td>1.213005e+06</td>\n",
       "      <td>1.000000</td>\n",
       "      <td>1.000000</td>\n",
       "      <td>1.000000</td>\n",
       "      <td>0.558528</td>\n",
       "      <td>1.000000</td>\n",
       "      <td>1.000000</td>\n",
       "      <td>0.772727</td>\n",
       "    </tr>\n",
       "  </tbody>\n",
       "</table>\n",
       "</div>"
      ],
      "text/plain": [
       "          school_id  children_5_17_saipe_estimate  poverty_saipe_estimate  \\\n",
       "count  13314.000000                  1.331400e+04            13314.000000   \n",
       "mean   14203.053402                  4.352696e+03                0.161928   \n",
       "std    15027.794484                  1.819214e+04                0.094417   \n",
       "min        1.000000                  0.000000e+00                0.000000   \n",
       "25%     3934.000000                  4.450000e+02                0.091779   \n",
       "50%     9540.000000                  1.263500e+03                0.147465   \n",
       "75%    20967.500000                  3.458500e+03                0.214746   \n",
       "max    99997.000000                  1.213005e+06                1.000000   \n",
       "\n",
       "       single_parent_estimate  hhs_with_vulnerable_job_estimate  \\\n",
       "count            13314.000000                      13314.000000   \n",
       "mean                 0.300393                          0.261315   \n",
       "std                  0.145567                          0.062967   \n",
       "min                  0.000000                          0.000000   \n",
       "25%                  0.203241                          0.226162   \n",
       "50%                  0.288236                          0.261326   \n",
       "75%                  0.381736                          0.295547   \n",
       "max                  1.000000                          1.000000   \n",
       "\n",
       "       crowded_conditions_estimate  no_computer_or_internet_estimate  \\\n",
       "count                 13314.000000                      13314.000000   \n",
       "mean                      0.025675                          0.139781   \n",
       "std                       0.032945                          0.118753   \n",
       "min                       0.000000                          0.000000   \n",
       "25%                       0.008020                          0.054255   \n",
       "50%                       0.016885                          0.112354   \n",
       "75%                       0.030664                          0.191661   \n",
       "max                       0.558528                          1.000000   \n",
       "\n",
       "       children_with_disability  linguistically_isolated_children  \n",
       "count              13314.000000                      13314.000000  \n",
       "mean                   0.057484                          0.021687  \n",
       "std                    0.043084                          0.048998  \n",
       "min                    0.000000                          0.000000  \n",
       "25%                    0.030859                          0.000000  \n",
       "50%                    0.050691                          0.000000  \n",
       "75%                    0.076047                          0.020890  \n",
       "max                    1.000000                          0.772727  "
      ]
     },
     "execution_count": 20,
     "metadata": {},
     "output_type": "execute_result"
    }
   ],
   "source": [
    "df.describe()"
   ]
  },
  {
   "cell_type": "code",
   "execution_count": 21,
   "metadata": {},
   "outputs": [
    {
     "data": {
      "text/plain": [
       "school_id                                           0\n",
       "state                                               0\n",
       "geographic_school_district                          0\n",
       "children_5_17_saipe_estimate                        0\n",
       "poverty_saipe_estimate                              0\n",
       "single_parent_estimate                              0\n",
       "single_parent_margin_of_error                       0\n",
       "hhs_with_vulnerable_job_estimate                    0\n",
       "vulnerable_job_margin_of_error                      0\n",
       "crowded_conditions_estimate                         0\n",
       "hh_with_crowded_conditions_margin_of_error          0\n",
       "no_computer_or_internet_estimate                    0\n",
       "no_computer_or_internet_margin_of_error             0\n",
       "children_with_disability                            0\n",
       "children_with_disability_margin_of_error            0\n",
       "linguistically_isolated_children                    0\n",
       "linguistically_isolated_children_margin_of_error    0\n",
       "dtype: int64"
      ]
     },
     "execution_count": 21,
     "metadata": {},
     "output_type": "execute_result"
    }
   ],
   "source": [
    "df.isnull().sum()\n"
   ]
  },
  {
   "cell_type": "markdown",
   "metadata": {},
   "source": [
    "## Clean"
   ]
  },
  {
   "cell_type": "code",
   "execution_count": 4,
   "metadata": {},
   "outputs": [],
   "source": [
    "grouped_df = df.groupby('state')"
   ]
  },
  {
   "cell_type": "markdown",
   "metadata": {},
   "source": [
    "## Analyze"
   ]
  },
  {
   "cell_type": "markdown",
   "metadata": {},
   "source": [
    "### Which state has the most students with a parent working in a vulnerable economic sector?  "
   ]
  },
  {
   "cell_type": "code",
   "execution_count": 5,
   "metadata": {},
   "outputs": [
    {
     "data": {
      "text/html": [
       "<style  type=\"text/css\" >\n",
       "</style><table id=\"T_7465a672_4a0d_11eb_b355_acde48001122\" ><thead>    <tr>        <th class=\"blank level0\" ></th>        <th class=\"col_heading level0 col0\" >hhs_with_vulnerable_job_estimate</th>    </tr>    <tr>        <th class=\"index_name level0\" >state</th>        <th class=\"blank\" ></th>    </tr></thead><tbody>\n",
       "                <tr>\n",
       "                        <th id=\"T_7465a672_4a0d_11eb_b355_acde48001122level0_row0\" class=\"row_heading level0 row0\" >Hawaii</th>\n",
       "                        <td id=\"T_7465a672_4a0d_11eb_b355_acde48001122row0_col0\" class=\"data row0 col0\" >34.56%</td>\n",
       "            </tr>\n",
       "            <tr>\n",
       "                        <th id=\"T_7465a672_4a0d_11eb_b355_acde48001122level0_row1\" class=\"row_heading level0 row1\" >Puerto Rico</th>\n",
       "                        <td id=\"T_7465a672_4a0d_11eb_b355_acde48001122row1_col0\" class=\"data row1 col0\" >31.22%</td>\n",
       "            </tr>\n",
       "            <tr>\n",
       "                        <th id=\"T_7465a672_4a0d_11eb_b355_acde48001122level0_row2\" class=\"row_heading level0 row2\" >Florida</th>\n",
       "                        <td id=\"T_7465a672_4a0d_11eb_b355_acde48001122row2_col0\" class=\"data row2 col0\" >31.12%</td>\n",
       "            </tr>\n",
       "            <tr>\n",
       "                        <th id=\"T_7465a672_4a0d_11eb_b355_acde48001122level0_row3\" class=\"row_heading level0 row3\" >Arizona</th>\n",
       "                        <td id=\"T_7465a672_4a0d_11eb_b355_acde48001122row3_col0\" class=\"data row3 col0\" >30.30%</td>\n",
       "            </tr>\n",
       "            <tr>\n",
       "                        <th id=\"T_7465a672_4a0d_11eb_b355_acde48001122level0_row4\" class=\"row_heading level0 row4\" >Nevada</th>\n",
       "                        <td id=\"T_7465a672_4a0d_11eb_b355_acde48001122row4_col0\" class=\"data row4 col0\" >29.39%</td>\n",
       "            </tr>\n",
       "            <tr>\n",
       "                        <th id=\"T_7465a672_4a0d_11eb_b355_acde48001122level0_row5\" class=\"row_heading level0 row5\" >Utah</th>\n",
       "                        <td id=\"T_7465a672_4a0d_11eb_b355_acde48001122row5_col0\" class=\"data row5 col0\" >29.34%</td>\n",
       "            </tr>\n",
       "            <tr>\n",
       "                        <th id=\"T_7465a672_4a0d_11eb_b355_acde48001122level0_row6\" class=\"row_heading level0 row6\" >Rhode Island</th>\n",
       "                        <td id=\"T_7465a672_4a0d_11eb_b355_acde48001122row6_col0\" class=\"data row6 col0\" >29.30%</td>\n",
       "            </tr>\n",
       "            <tr>\n",
       "                        <th id=\"T_7465a672_4a0d_11eb_b355_acde48001122level0_row7\" class=\"row_heading level0 row7\" >Delaware</th>\n",
       "                        <td id=\"T_7465a672_4a0d_11eb_b355_acde48001122row7_col0\" class=\"data row7 col0\" >28.66%</td>\n",
       "            </tr>\n",
       "            <tr>\n",
       "                        <th id=\"T_7465a672_4a0d_11eb_b355_acde48001122level0_row8\" class=\"row_heading level0 row8\" >North Carolina</th>\n",
       "                        <td id=\"T_7465a672_4a0d_11eb_b355_acde48001122row8_col0\" class=\"data row8 col0\" >28.56%</td>\n",
       "            </tr>\n",
       "            <tr>\n",
       "                        <th id=\"T_7465a672_4a0d_11eb_b355_acde48001122level0_row9\" class=\"row_heading level0 row9\" >New Hampshire</th>\n",
       "                        <td id=\"T_7465a672_4a0d_11eb_b355_acde48001122row9_col0\" class=\"data row9 col0\" >28.16%</td>\n",
       "            </tr>\n",
       "    </tbody></table>"
      ],
      "text/plain": [
       "<pandas.io.formats.style.Styler at 0x7ffaf1362640>"
      ]
     },
     "execution_count": 5,
     "metadata": {},
     "output_type": "execute_result"
    }
   ],
   "source": [
    "vulnerable_sector = grouped_df.mean()[\"hhs_with_vulnerable_job_estimate\"].sort_values(ascending=False).head(10).to_frame()\n",
    "vulnerable_sector.style.format('{:.2%}')"
   ]
  },
  {
   "cell_type": "markdown",
   "metadata": {},
   "source": [
    "Hawaii has the most students with parents working in vulnerable sectors."
   ]
  },
  {
   "cell_type": "markdown",
   "metadata": {},
   "source": [
    "### Which state has the most students living in crowded conditions?"
   ]
  },
  {
   "cell_type": "code",
   "execution_count": 6,
   "metadata": {},
   "outputs": [
    {
     "data": {
      "text/html": [
       "<style  type=\"text/css\" >\n",
       "</style><table id=\"T_76fb40d6_4a0d_11eb_b355_acde48001122\" ><thead>    <tr>        <th class=\"blank level0\" ></th>        <th class=\"col_heading level0 col0\" >crowded_conditions_estimate</th>    </tr>    <tr>        <th class=\"index_name level0\" >state</th>        <th class=\"blank\" ></th>    </tr></thead><tbody>\n",
       "                <tr>\n",
       "                        <th id=\"T_76fb40d6_4a0d_11eb_b355_acde48001122level0_row0\" class=\"row_heading level0 row0\" >Alaska</th>\n",
       "                        <td id=\"T_76fb40d6_4a0d_11eb_b355_acde48001122row0_col0\" class=\"data row0 col0\" >13.35%</td>\n",
       "            </tr>\n",
       "            <tr>\n",
       "                        <th id=\"T_76fb40d6_4a0d_11eb_b355_acde48001122level0_row1\" class=\"row_heading level0 row1\" >Hawaii</th>\n",
       "                        <td id=\"T_76fb40d6_4a0d_11eb_b355_acde48001122row1_col0\" class=\"data row1 col0\" >9.06%</td>\n",
       "            </tr>\n",
       "            <tr>\n",
       "                        <th id=\"T_76fb40d6_4a0d_11eb_b355_acde48001122level0_row2\" class=\"row_heading level0 row2\" >California</th>\n",
       "                        <td id=\"T_76fb40d6_4a0d_11eb_b355_acde48001122row2_col0\" class=\"data row2 col0\" >6.84%</td>\n",
       "            </tr>\n",
       "            <tr>\n",
       "                        <th id=\"T_76fb40d6_4a0d_11eb_b355_acde48001122level0_row3\" class=\"row_heading level0 row3\" >Arizona</th>\n",
       "                        <td id=\"T_76fb40d6_4a0d_11eb_b355_acde48001122row3_col0\" class=\"data row3 col0\" >5.76%</td>\n",
       "            </tr>\n",
       "            <tr>\n",
       "                        <th id=\"T_76fb40d6_4a0d_11eb_b355_acde48001122level0_row4\" class=\"row_heading level0 row4\" >Texas</th>\n",
       "                        <td id=\"T_76fb40d6_4a0d_11eb_b355_acde48001122row4_col0\" class=\"data row4 col0\" >4.06%</td>\n",
       "            </tr>\n",
       "            <tr>\n",
       "                        <th id=\"T_76fb40d6_4a0d_11eb_b355_acde48001122level0_row5\" class=\"row_heading level0 row5\" >Washington</th>\n",
       "                        <td id=\"T_76fb40d6_4a0d_11eb_b355_acde48001122row5_col0\" class=\"data row5 col0\" >3.87%</td>\n",
       "            </tr>\n",
       "            <tr>\n",
       "                        <th id=\"T_76fb40d6_4a0d_11eb_b355_acde48001122level0_row6\" class=\"row_heading level0 row6\" >District of Columbia</th>\n",
       "                        <td id=\"T_76fb40d6_4a0d_11eb_b355_acde48001122row6_col0\" class=\"data row6 col0\" >3.61%</td>\n",
       "            </tr>\n",
       "            <tr>\n",
       "                        <th id=\"T_76fb40d6_4a0d_11eb_b355_acde48001122level0_row7\" class=\"row_heading level0 row7\" >Idaho</th>\n",
       "                        <td id=\"T_76fb40d6_4a0d_11eb_b355_acde48001122row7_col0\" class=\"data row7 col0\" >3.54%</td>\n",
       "            </tr>\n",
       "            <tr>\n",
       "                        <th id=\"T_76fb40d6_4a0d_11eb_b355_acde48001122level0_row8\" class=\"row_heading level0 row8\" >Utah</th>\n",
       "                        <td id=\"T_76fb40d6_4a0d_11eb_b355_acde48001122row8_col0\" class=\"data row8 col0\" >3.45%</td>\n",
       "            </tr>\n",
       "            <tr>\n",
       "                        <th id=\"T_76fb40d6_4a0d_11eb_b355_acde48001122level0_row9\" class=\"row_heading level0 row9\" >New Mexico</th>\n",
       "                        <td id=\"T_76fb40d6_4a0d_11eb_b355_acde48001122row9_col0\" class=\"data row9 col0\" >3.41%</td>\n",
       "            </tr>\n",
       "    </tbody></table>"
      ],
      "text/plain": [
       "<pandas.io.formats.style.Styler at 0x7ffaeee57d90>"
      ]
     },
     "execution_count": 6,
     "metadata": {},
     "output_type": "execute_result"
    }
   ],
   "source": [
    "crowded = grouped_df.mean()[\"crowded_conditions_estimate\"].sort_values(ascending=False).head(10).to_frame()\n",
    "crowded.style.format('{:.2%}')"
   ]
  },
  {
   "cell_type": "markdown",
   "metadata": {},
   "source": [
    "Alaska has the most students living in crowded conditions."
   ]
  },
  {
   "cell_type": "markdown",
   "metadata": {},
   "source": [
    "### Which state has the most students without computer or internet access?"
   ]
  },
  {
   "cell_type": "code",
   "execution_count": 7,
   "metadata": {},
   "outputs": [
    {
     "data": {
      "text/html": [
       "<style  type=\"text/css\" >\n",
       "</style><table id=\"T_7896ab9c_4a0d_11eb_b355_acde48001122\" ><thead>    <tr>        <th class=\"blank level0\" ></th>        <th class=\"col_heading level0 col0\" >no_computer_or_internet_estimate</th>    </tr>    <tr>        <th class=\"index_name level0\" >state</th>        <th class=\"blank\" ></th>    </tr></thead><tbody>\n",
       "                <tr>\n",
       "                        <th id=\"T_7896ab9c_4a0d_11eb_b355_acde48001122level0_row0\" class=\"row_heading level0 row0\" >Puerto Rico</th>\n",
       "                        <td id=\"T_7896ab9c_4a0d_11eb_b355_acde48001122row0_col0\" class=\"data row0 col0\" >31.60%</td>\n",
       "            </tr>\n",
       "            <tr>\n",
       "                        <th id=\"T_7896ab9c_4a0d_11eb_b355_acde48001122level0_row1\" class=\"row_heading level0 row1\" >Mississippi</th>\n",
       "                        <td id=\"T_7896ab9c_4a0d_11eb_b355_acde48001122row1_col0\" class=\"data row1 col0\" >26.76%</td>\n",
       "            </tr>\n",
       "            <tr>\n",
       "                        <th id=\"T_7896ab9c_4a0d_11eb_b355_acde48001122level0_row2\" class=\"row_heading level0 row2\" >New Mexico</th>\n",
       "                        <td id=\"T_7896ab9c_4a0d_11eb_b355_acde48001122row2_col0\" class=\"data row2 col0\" >26.00%</td>\n",
       "            </tr>\n",
       "            <tr>\n",
       "                        <th id=\"T_7896ab9c_4a0d_11eb_b355_acde48001122level0_row3\" class=\"row_heading level0 row3\" >Arkansas</th>\n",
       "                        <td id=\"T_7896ab9c_4a0d_11eb_b355_acde48001122row3_col0\" class=\"data row3 col0\" >23.82%</td>\n",
       "            </tr>\n",
       "            <tr>\n",
       "                        <th id=\"T_7896ab9c_4a0d_11eb_b355_acde48001122level0_row4\" class=\"row_heading level0 row4\" >Louisiana</th>\n",
       "                        <td id=\"T_7896ab9c_4a0d_11eb_b355_acde48001122row4_col0\" class=\"data row4 col0\" >23.57%</td>\n",
       "            </tr>\n",
       "            <tr>\n",
       "                        <th id=\"T_7896ab9c_4a0d_11eb_b355_acde48001122level0_row5\" class=\"row_heading level0 row5\" >Georgia</th>\n",
       "                        <td id=\"T_7896ab9c_4a0d_11eb_b355_acde48001122row5_col0\" class=\"data row5 col0\" >21.81%</td>\n",
       "            </tr>\n",
       "            <tr>\n",
       "                        <th id=\"T_7896ab9c_4a0d_11eb_b355_acde48001122level0_row6\" class=\"row_heading level0 row6\" >Oklahoma</th>\n",
       "                        <td id=\"T_7896ab9c_4a0d_11eb_b355_acde48001122row6_col0\" class=\"data row6 col0\" >21.69%</td>\n",
       "            </tr>\n",
       "            <tr>\n",
       "                        <th id=\"T_7896ab9c_4a0d_11eb_b355_acde48001122level0_row7\" class=\"row_heading level0 row7\" >South Carolina</th>\n",
       "                        <td id=\"T_7896ab9c_4a0d_11eb_b355_acde48001122row7_col0\" class=\"data row7 col0\" >21.11%</td>\n",
       "            </tr>\n",
       "            <tr>\n",
       "                        <th id=\"T_7896ab9c_4a0d_11eb_b355_acde48001122level0_row8\" class=\"row_heading level0 row8\" >District of Columbia</th>\n",
       "                        <td id=\"T_7896ab9c_4a0d_11eb_b355_acde48001122row8_col0\" class=\"data row8 col0\" >20.97%</td>\n",
       "            </tr>\n",
       "            <tr>\n",
       "                        <th id=\"T_7896ab9c_4a0d_11eb_b355_acde48001122level0_row9\" class=\"row_heading level0 row9\" >Arizona</th>\n",
       "                        <td id=\"T_7896ab9c_4a0d_11eb_b355_acde48001122row9_col0\" class=\"data row9 col0\" >20.81%</td>\n",
       "            </tr>\n",
       "    </tbody></table>"
      ],
      "text/plain": [
       "<pandas.io.formats.style.Styler at 0x7ffaf194fb80>"
      ]
     },
     "execution_count": 7,
     "metadata": {},
     "output_type": "execute_result"
    }
   ],
   "source": [
    "lack_computer = grouped_df.mean()[\"no_computer_or_internet_estimate\"].sort_values(ascending=False).head(10).to_frame()\n",
    "lack_computer.style.format('{:.2%}')"
   ]
  },
  {
   "cell_type": "markdown",
   "metadata": {},
   "source": [
    "Puerto Rico has the most students lacking a computer or internet access."
   ]
  },
  {
   "cell_type": "markdown",
   "metadata": {},
   "source": [
    "## Visualize"
   ]
  },
  {
   "cell_type": "code",
   "execution_count": 8,
   "metadata": {},
   "outputs": [],
   "source": [
    "def make_plot(dataframe, title):\n",
    "    '''\n",
    "    INPUT: \n",
    "    dataframe - the pandas dataframe that will be used to make the chart\n",
    "    title - the chart title\n",
    "    \n",
    "    OUTPUT:\n",
    "    Horizontal bar plot of the dataset\n",
    "    '''\n",
    "    df = dataframe\n",
    "    df.plot.barh()\n",
    "    plt.title(title)\n",
    "    plt.ylabel('State')\n",
    "    plt.xlabel('Percentage')\n",
    "    plt.show()\n"
   ]
  },
  {
   "cell_type": "code",
   "execution_count": 12,
   "metadata": {},
   "outputs": [
    {
     "data": {
      "image/png": "[encoded data removed]",
      "text/plain": [
       "<Figure size 432x288 with 1 Axes>"
      ]
     },
     "metadata": {},
     "output_type": "display_data"
    }
   ],
   "source": [
    "plt.style.use('ggplot')\n",
    "\n",
    "make_plot(vulnerable_sector, \"% Students with Parents in Vulnerable Job\")\n"
   ]
  },
  {
   "cell_type": "markdown",
   "metadata": {},
   "source": [
    "While Hawaii clearly has the most students the other 9 states have comparable percentages."
   ]
  },
  {
   "cell_type": "code",
   "execution_count": 13,
   "metadata": {},
   "outputs": [
    {
     "data": {
      "image/png": "[encoded data removed]",
      "text/plain": [
       "<Figure size 432x288 with 1 Axes>"
      ]
     },
     "metadata": {},
     "output_type": "display_data"
    }
   ],
   "source": [
    "make_plot(crowded,'Students Living in Crowded Conditions')\n"
   ]
  },
  {
   "cell_type": "markdown",
   "metadata": {},
   "source": [
    "Alaska has significantly more students living in crowded conditions. The difference between each state is not as close as that for vulnerable economic sectors."
   ]
  },
  {
   "cell_type": "code",
   "execution_count": 14,
   "metadata": {},
   "outputs": [
    {
     "data": {
      "image/png": "[encoded data removed]",
      "text/plain": [
       "<Figure size 432x288 with 1 Axes>"
      ]
     },
     "metadata": {},
     "output_type": "display_data"
    }
   ],
   "source": [
    "make_plot(lack_computer,'Students Living in Crowded Conditions')\n"
   ]
  },
  {
   "cell_type": "markdown",
   "metadata": {},
   "source": [
    "Puerto Rico, Mississippi and New Mexico have nearly the same amount of students without computer or internet access. The other states are close to those as well."
   ]
  }
 ],
 "metadata": {
  "kernelspec": {
   "display_name": "Python 3",
   "language": "python",
   "name": "python3"
  },
  "language_info": {
   "codemirror_mode": {
    "name": "ipython",
    "version": 3
   },
   "file_extension": ".py",
   "mimetype": "text/x-python",
   "name": "python",
   "nbconvert_exporter": "python",
   "pygments_lexer": "ipython3",
   "version": "3.8.5"
  }
 },
 "nbformat": 4,
 "nbformat_minor": 4
}
